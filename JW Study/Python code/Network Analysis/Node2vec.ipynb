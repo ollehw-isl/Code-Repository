{
 "cells": [
  {
   "cell_type": "markdown",
   "metadata": {},
   "source": [
    "#### 패키지 불러오기 (이 때, nodevectors 설치시 관리자 권한 필요!)"
   ]
  },
  {
   "cell_type": "code",
   "execution_count": 1,
   "metadata": {},
   "outputs": [],
   "source": [
    "import numpy as np\n",
    "import pandas as pd\n",
    "import networkx as nx\n",
    "import csrgraph as cg\n",
    "from nodevectors import ProNE\n",
    "from nodevectors import Node2Vec"
   ]
  },
  {
   "cell_type": "markdown",
   "metadata": {},
   "source": [
    "#### 데이터 불러오기"
   ]
  },
  {
   "cell_type": "code",
   "execution_count": 2,
   "metadata": {},
   "outputs": [],
   "source": [
    "Applicant = pd.read_csv('applicant_citations.csv')"
   ]
  },
  {
   "cell_type": "code",
   "execution_count": 3,
   "metadata": {},
   "outputs": [
    {
     "data": {
      "text/html": [
       "<div>\n",
       "<style scoped>\n",
       "    .dataframe tbody tr th:only-of-type {\n",
       "        vertical-align: middle;\n",
       "    }\n",
       "\n",
       "    .dataframe tbody tr th {\n",
       "        vertical-align: top;\n",
       "    }\n",
       "\n",
       "    .dataframe thead th {\n",
       "        text-align: right;\n",
       "    }\n",
       "</style>\n",
       "<table border=\"1\" class=\"dataframe\">\n",
       "  <thead>\n",
       "    <tr style=\"text-align: right;\">\n",
       "      <th></th>\n",
       "      <th>Original_Applicant</th>\n",
       "      <th>Cited_Applicant</th>\n",
       "      <th>weight</th>\n",
       "      <th>distance</th>\n",
       "    </tr>\n",
       "  </thead>\n",
       "  <tbody>\n",
       "    <tr>\n",
       "      <th>0</th>\n",
       "      <td>11i Networks Inc.</td>\n",
       "      <td>FUJITSU LTD</td>\n",
       "      <td>1</td>\n",
       "      <td>1.0</td>\n",
       "    </tr>\n",
       "    <tr>\n",
       "      <th>1</th>\n",
       "      <td>1A Smart Start, Inc.</td>\n",
       "      <td>FUJITSU LTD</td>\n",
       "      <td>1</td>\n",
       "      <td>1.0</td>\n",
       "    </tr>\n",
       "    <tr>\n",
       "      <th>2</th>\n",
       "      <td>1A Smart Start, Inc.</td>\n",
       "      <td>Intel Co.</td>\n",
       "      <td>1</td>\n",
       "      <td>1.0</td>\n",
       "    </tr>\n",
       "    <tr>\n",
       "      <th>3</th>\n",
       "      <td>1PerfectID, Inc.</td>\n",
       "      <td>FUJITSU LTD</td>\n",
       "      <td>2</td>\n",
       "      <td>0.5</td>\n",
       "    </tr>\n",
       "    <tr>\n",
       "      <th>4</th>\n",
       "      <td>1PerfectID, Inc.</td>\n",
       "      <td>Intel Co.</td>\n",
       "      <td>2</td>\n",
       "      <td>0.5</td>\n",
       "    </tr>\n",
       "  </tbody>\n",
       "</table>\n",
       "</div>"
      ],
      "text/plain": [
       "     Original_Applicant Cited_Applicant  weight  distance\n",
       "0     11i Networks Inc.     FUJITSU LTD       1       1.0\n",
       "1  1A Smart Start, Inc.     FUJITSU LTD       1       1.0\n",
       "2  1A Smart Start, Inc.       Intel Co.       1       1.0\n",
       "3      1PerfectID, Inc.     FUJITSU LTD       2       0.5\n",
       "4      1PerfectID, Inc.       Intel Co.       2       0.5"
      ]
     },
     "execution_count": 3,
     "metadata": {},
     "output_type": "execute_result"
    }
   ],
   "source": [
    "Applicant.head()"
   ]
  },
  {
   "cell_type": "markdown",
   "metadata": {},
   "source": [
    "#### Data로부터 NetworkX 그래프 형성"
   ]
  },
  {
   "cell_type": "code",
   "execution_count": 4,
   "metadata": {},
   "outputs": [],
   "source": [
    "G = nx.from_pandas_edgelist(Applicant, 'Original_Applicant', 'Cited_Applicant', [\"weight\"],create_using=nx.DiGraph())"
   ]
  },
  {
   "cell_type": "markdown",
   "metadata": {},
   "source": [
    "#### NetworkX 그래프를 csrgraph로 바꾸자. (속도 측면 상승)"
   ]
  },
  {
   "cell_type": "code",
   "execution_count": 5,
   "metadata": {},
   "outputs": [],
   "source": [
    "G = cg.csrgraph(G)"
   ]
  },
  {
   "cell_type": "code",
   "execution_count": 6,
   "metadata": {},
   "outputs": [
    {
     "data": {
      "text/plain": [
       "(13033, 13033)"
      ]
     },
     "execution_count": 6,
     "metadata": {},
     "output_type": "execute_result"
    }
   ],
   "source": [
    "G.mat.shape"
   ]
  },
  {
   "cell_type": "markdown",
   "metadata": {},
   "source": [
    "#### ProNE"
   ]
  },
  {
   "cell_type": "code",
   "execution_count": 7,
   "metadata": {},
   "outputs": [],
   "source": [
    "# Fit embedding model to graph\n",
    "g2v = ProNE(n_components = 64)\n",
    "# way faster than other node2vec implementations\n",
    "# Graph edge weights are handled automatically\n",
    "embeddings = g2v.fit_transform(G)"
   ]
  },
  {
   "cell_type": "code",
   "execution_count": 11,
   "metadata": {},
   "outputs": [
    {
     "data": {
      "text/plain": [
       "array([[-5.19583344e-02, -8.73645341e-02,  3.20295658e-02, ...,\n",
       "         5.01785969e-03,  1.75911788e-03, -2.65897980e-02],\n",
       "       [-8.40459312e-01, -3.78119748e-01,  2.61236463e-01, ...,\n",
       "         3.09070974e-05, -1.21025533e-06, -4.56444986e-06],\n",
       "       [-7.76374113e-02, -6.52786934e-02, -1.11856200e-01, ...,\n",
       "        -6.77988968e-03, -1.91671265e-03,  1.28714799e-02],\n",
       "       ...,\n",
       "       [-1.18427261e-01,  6.88960640e-02,  3.45119484e-02, ...,\n",
       "         1.13825379e-02, -1.99119333e-03, -2.97713634e-04],\n",
       "       [-6.40846337e-02, -1.07762648e-01,  3.95077806e-02, ...,\n",
       "         6.30939829e-03, -2.44305868e-03, -3.28690711e-04],\n",
       "       [-6.40846293e-02, -1.07762659e-01,  3.95077863e-02, ...,\n",
       "         6.30939859e-03, -2.44306000e-03, -3.28688976e-04]])"
      ]
     },
     "execution_count": 11,
     "metadata": {},
     "output_type": "execute_result"
    }
   ],
   "source": [
    "embeddings"
   ]
  },
  {
   "cell_type": "code",
   "execution_count": 12,
   "metadata": {},
   "outputs": [],
   "source": [
    "np.save('embeddings_64', embeddings)"
   ]
  }
 ],
 "metadata": {
  "kernelspec": {
   "display_name": "Python 3",
   "language": "python",
   "name": "python3"
  },
  "language_info": {
   "codemirror_mode": {
    "name": "ipython",
    "version": 3
   },
   "file_extension": ".py",
   "mimetype": "text/x-python",
   "name": "python",
   "nbconvert_exporter": "python",
   "pygments_lexer": "ipython3",
   "version": "3.6.7"
  }
 },
 "nbformat": 4,
 "nbformat_minor": 2
}
